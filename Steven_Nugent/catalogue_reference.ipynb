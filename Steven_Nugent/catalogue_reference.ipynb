{
 "cells": [
  {
   "cell_type": "code",
   "execution_count": 13,
   "metadata": {},
   "outputs": [],
   "source": [
    "# Import libraries\n",
    "import pandas as pd\n",
    "from pathlib import Path\n",
    "import pdfplumber"
   ]
  },
  {
   "cell_type": "code",
   "execution_count": 14,
   "metadata": {},
   "outputs": [],
   "source": [
    "catalogue_path = Path('Resources/IAG_S99_Cat.pdf')\n",
    "pricing_path = Path('Resources/IAG_S99_PR.pdf')\n",
    "\n",
    "start_page = 5\n",
    "end_page = 149\n",
    "\n",
    "text = \"\"\n",
    "\n",
    "with pdfplumber.open(catalogue_path) as cat_pdf:\n",
    "    for page_number, page in enumerate(cat_pdf.pages[start_page:end_page], start=start_page):\n",
    "        text += page.extract_text()\n",
    "\n",
    "       "
   ]
  },
  {
   "cell_type": "code",
   "execution_count": null,
   "metadata": {},
   "outputs": [],
   "source": [
    "# output_text = \"catalogue_text.txt\"  \n",
    "\n",
    "# with open(output_text, \"w\") as text_file:\n",
    "#     text_file.write(processed_text) "
   ]
  }
 ],
 "metadata": {
  "kernelspec": {
   "display_name": "base",
   "language": "python",
   "name": "python3"
  },
  "language_info": {
   "codemirror_mode": {
    "name": "ipython",
    "version": 3
   },
   "file_extension": ".py",
   "mimetype": "text/x-python",
   "name": "python",
   "nbconvert_exporter": "python",
   "pygments_lexer": "ipython3",
   "version": "3.11.5"
  }
 },
 "nbformat": 4,
 "nbformat_minor": 2
}
